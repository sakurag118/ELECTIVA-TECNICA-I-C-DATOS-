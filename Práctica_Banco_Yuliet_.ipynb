{
  "nbformat": 4,
  "nbformat_minor": 0,
  "metadata": {
    "colab": {
      "provenance": [],
      "authorship_tag": "ABX9TyPs5KUBSQd7T5LWxm/lWIWb",
      "include_colab_link": true
    },
    "kernelspec": {
      "name": "python3",
      "display_name": "Python 3"
    },
    "language_info": {
      "name": "python"
    }
  },
  "cells": [
    {
      "cell_type": "markdown",
      "metadata": {
        "id": "view-in-github",
        "colab_type": "text"
      },
      "source": [
        "<a href=\"https://colab.research.google.com/github/sakurag118/ELECTIVA-TECNICA-I-C-DATOS-/blob/main/Pr%C3%A1ctica_Banco_Yuliet_.ipynb\" target=\"_parent\"><img src=\"https://colab.research.google.com/assets/colab-badge.svg\" alt=\"Open In Colab\"/></a>"
      ]
    },
    {
      "cell_type": "markdown",
      "source": [
        "#**PRACTICA: Clases Y Funciones - Banco En Python**\n",
        "\n",
        "**Estudiante :** Yuliet Sakura Garcia Fonseca\n",
        "\n",
        "**Curso :** S4C\n",
        "\n",
        "\n",
        "**Objetivo :** Implementar clases\n",
        "\n",
        "\n",
        "*   Usuario\n",
        "*   CuentaBancaria\n",
        "*   Banco\n",
        "\n",
        "Simuara opraciones como Depositar,Retirar, Transferencia e imprimir saldos para validar."
      ],
      "metadata": {
        "id": "AXTOi_OU7LYu"
      }
    },
    {
      "cell_type": "code",
      "source": [
        "\n",
        "import hashlib        # Para crear un hash de contrasena (simple)\n",
        "import random         # Para generar operaciones aleatorias\n",
        "from typing import List, Optional  # Anotaciones de tipo (opcional)"
      ],
      "metadata": {
        "id": "UTHQo7s3AfCy"
      },
      "execution_count": null,
      "outputs": []
    },
    {
      "cell_type": "markdown",
      "source": [
        "**Clases del sistema bancario**"
      ],
      "metadata": {
        "id": "c3yAtOfLpLJY"
      }
    },
    {
      "cell_type": "code",
      "source": [
        "# Clase Usuario: representa a una persona que usa el banco\n",
        "class Usuario:\n",
        "    # variable de clase para generar id automatico\n",
        "    _proximo_id = 1\n",
        "\n",
        "    # __init__ es el \"constructor\": se ejecuta cuando creas un Usuario\n",
        "    def __init__(self, nombre: str, email: str):\n",
        "        # self es la referencia al objeto que estamos creando\n",
        "        self.id = Usuario._proximo_id      # id unico del usuario\n",
        "        Usuario._proximo_id += 1           # preparamos el siguiente id\n",
        "        self.nombre = nombre               # nombre guardado\n",
        "        self.email = email                 # email guardado\n",
        "        self.contraseña_hash = None          # aqui guardaremos el hash de la contraseña\n",
        "\n",
        "    def registrarse(self):\n",
        "        # metodo simple que imprime confirmacion\n",
        "        print(f\"Usuario registrado: {self.id} - {self.nombre} ({self.email})\")\n",
        "\n",
        "    def guardaContraseña(self, contraseña: str):\n",
        "        # creamos un hash simple usando SHA-256 y lo guardamos en contraseña_hash\n",
        "        self.contraseña_hash = hashlib.sha256(contraseña.encode()).hexdigest()\n",
        "\n",
        "    def verificaContraseña(self, contraseña: str) -> bool:\n",
        "        # verificamos si el hash de la contraseña coincide con el guardado\n",
        "        if self.contraseña_hash is None:\n",
        "            return False\n",
        "        return hashlib.sha256(contraseña.encode()).hexdigest() == self.contraseña_hash\n"
      ],
      "metadata": {
        "id": "CocryQq1aElX"
      },
      "execution_count": null,
      "outputs": []
    },
    {
      "cell_type": "code",
      "source": [
        "# Clase CuentaBancaria: representa una cuenta del banco\n",
        "class CuentaBancaria:\n",
        "\n",
        "   # numero de cuenta que aumenta automaticamente\n",
        "    _proximo_numero = 1001\n",
        "\n",
        "    def __init__(self, usuario: Usuario):\n",
        "        self.numero_cuenta = CuentaBancaria._proximo_numero  # asigna numero unico\n",
        "        CuentaBancaria._proximo_numero += 1\n",
        "        self.usuario = usuario   # referencia al objeto Usuario (asociacion)\n",
        "        self.saldo = 0.0         # saldo inicia en 0.0\n",
        "\n",
        "    def depositar(self, cantidad: float):\n",
        "        # depositar aumenta el saldo\n",
        "        if cantidad <= 0:\n",
        "            print(\"La cantidad a depositar debe ser positiva.\")\n",
        "            return False\n",
        "        self.saldo += cantidad\n",
        "        print(f\"[Depósito] Cuenta {self.numero_cuenta}: +{cantidad:.2f} -> Saldo: {self.saldo:.2f}\")\n",
        "        return True\n",
        "\n",
        "    def retirar(self, cantidad: float):\n",
        "        # retirar disminuye el saldo si hay fondos suficientes\n",
        "        if cantidad <= 0:\n",
        "            print(\"La cantidad a retirar debe ser positiva.\")\n",
        "            return False\n",
        "        if cantidad > self.saldo:\n",
        "            print(f\"[Retiro fallido] Cuenta {self.numero_cuenta}: fondos insuficientes.\")\n",
        "            return False\n",
        "        self.saldo -= cantidad\n",
        "        print(f\"[Retiro] Cuenta {self.numero_cuenta}: -{cantidad:.2f} -> Saldo: {self.saldo:.2f}\")\n",
        "        return True\n",
        "\n",
        "    def consultar_saldo(self) -> float:\n",
        "        # retorna el saldo actual\n",
        "        print(f\"[Saldo] Cuenta {self.numero_cuenta} - {self.usuario.nombre}: {self.saldo:.2f}\")\n",
        "        return self.saldo\n"
      ],
      "metadata": {
        "id": "fBDb1Z8ErheF"
      },
      "execution_count": null,
      "outputs": []
    },
    {
      "cell_type": "code",
      "source": [
        "# Clase Banco: gestiona muchas cuentas\n",
        "class Banco:\n",
        "\n",
        "    def __init__(self, nombre: str):\n",
        "        self.nombre = nombre\n",
        "        self.cuentas = []  # lista vacia para guardar cuentas (objetos CuentaBancaria)\n",
        "\n",
        "    def abrir_cuenta(self, usuario: Usuario) -> CuentaBancaria:\n",
        "        # crea una cuenta nueva para el usuario y la añade a la lista\n",
        "        cuenta = CuentaBancaria(usuario)\n",
        "        self.cuentas.append(cuenta)\n",
        "        print(f\"Cuenta abierta: {cuenta.numero_cuenta} para {usuario.nombre}\")\n",
        "        return cuenta\n",
        "\n",
        "    def buscar_cuenta(self, numero_cuenta: int) -> Optional[CuentaBancaria]:\n",
        "        # busca en la lista una cuenta con el numero dado\n",
        "        for c in self.cuentas:\n",
        "            if c.numero_cuenta == numero_cuenta:\n",
        "                return c\n",
        "        return None\n",
        "\n",
        "    def realizar_transferencia(self, cuenta_origen: CuentaBancaria, cuenta_destino: CuentaBancaria, cantidad: float) -> bool:\n",
        "        # intenta retirar de la cuenta de origen; si logra, deposita en destino\n",
        "        print(f\"Intentando transferir {cantidad:.2f} de {cuenta_origen.numero_cuenta} a {cuenta_destino.numero_cuenta}\")\n",
        "        if cuenta_origen.retirar(cantidad):\n",
        "            cuenta_destino.depositar(cantidad)\n",
        "            print(f\"[Transferencia exitosa] {cantidad:.2f} de {cuenta_origen.numero_cuenta} a {cuenta_destino.numero_cuenta}\")\n",
        "            return True\n",
        "        else:\n",
        "            print(\"[Transferencia fallida] No se realizaron cambios.\")\n",
        "            return False"
      ],
      "metadata": {
        "id": "HFQIy36eroSU"
      },
      "execution_count": null,
      "outputs": []
    },
    {
      "cell_type": "markdown",
      "source": [
        "##**código de prueba y simulación**\n",
        "\n",
        "Simulación: crear banco, 10 usuarios, operaciones y transferencias"
      ],
      "metadata": {
        "id": "UIqF2F04sgvs"
      }
    },
    {
      "cell_type": "code",
      "source": [
        "# 1. Creamos el banco\n",
        "mi_banco = Banco(\"Banco Ejemplo\")\n"
      ],
      "metadata": {
        "id": "VSWGGYvJtAOa"
      },
      "execution_count": null,
      "outputs": []
    },
    {
      "cell_type": "code",
      "source": [
        "# 2. Registramos 10 usuarios y abrimos cuentas\n",
        "usuarios = []\n",
        "cuentas = []\n",
        "for i in range(1, 11):\n",
        "    nombre = f\"Usuario{i}\"\n",
        "    email = f\"usuario{i}@ejemplo.com\"\n",
        "    u = Usuario(nombre, email)\n",
        "    u.guardaContraseña(\"pass123\")   # asignamos una contraseña simple para todos\n",
        "    u.registrarse()             # imprime mensaje de registro\n",
        "    usuarios.append(u)\n",
        "    c = mi_banco.abrir_cuenta(u)\n",
        "    cuentas.append(c)"
      ],
      "metadata": {
        "colab": {
          "base_uri": "https://localhost:8080/"
        },
        "id": "e9_deyrBtEqT",
        "outputId": "18c2bdad-081b-4114-db2a-b2247fad4cf2"
      },
      "execution_count": null,
      "outputs": [
        {
          "output_type": "stream",
          "name": "stdout",
          "text": [
            "Usuario registrado: 1 - Usuario1 (usuario1@ejemplo.com)\n",
            "Cuenta abierta: 1001 para Usuario1\n",
            "Usuario registrado: 2 - Usuario2 (usuario2@ejemplo.com)\n",
            "Cuenta abierta: 1002 para Usuario2\n",
            "Usuario registrado: 3 - Usuario3 (usuario3@ejemplo.com)\n",
            "Cuenta abierta: 1003 para Usuario3\n",
            "Usuario registrado: 4 - Usuario4 (usuario4@ejemplo.com)\n",
            "Cuenta abierta: 1004 para Usuario4\n",
            "Usuario registrado: 5 - Usuario5 (usuario5@ejemplo.com)\n",
            "Cuenta abierta: 1005 para Usuario5\n",
            "Usuario registrado: 6 - Usuario6 (usuario6@ejemplo.com)\n",
            "Cuenta abierta: 1006 para Usuario6\n",
            "Usuario registrado: 7 - Usuario7 (usuario7@ejemplo.com)\n",
            "Cuenta abierta: 1007 para Usuario7\n",
            "Usuario registrado: 8 - Usuario8 (usuario8@ejemplo.com)\n",
            "Cuenta abierta: 1008 para Usuario8\n",
            "Usuario registrado: 9 - Usuario9 (usuario9@ejemplo.com)\n",
            "Cuenta abierta: 1009 para Usuario9\n",
            "Usuario registrado: 10 - Usuario10 (usuario10@ejemplo.com)\n",
            "Cuenta abierta: 1010 para Usuario10\n"
          ]
        }
      ]
    },
    {
      "cell_type": "code",
      "source": [
        "# 3. Para cada usuario hacemos 3 operaciones (depósito y retiro simple)\n",
        "for cuenta in cuentas:\n",
        "    # deposito inicial aleatorio entre 100 y 500\n",
        "    monto_deposito = random.randint(100, 500)\n",
        "    cuenta.depositar(float(monto_deposito))\n",
        "    # retiro aleatorio entre 10 y 50\n",
        "    cuenta.retirar(float(random.randint(10, 50)))\n",
        "    # otro deposito\n",
        "    cuenta.depositar(float(random.randint(20, 200)))\n",
        "    # mostrar saldo final de la cuenta despues de las 3 operaciones\n",
        "    cuenta.consultar_saldo()\n"
      ],
      "metadata": {
        "colab": {
          "base_uri": "https://localhost:8080/"
        },
        "id": "5tWBG5wKueJM",
        "outputId": "58cf7598-3b08-4e2d-ea53-021fdbe47b76"
      },
      "execution_count": null,
      "outputs": [
        {
          "output_type": "stream",
          "name": "stdout",
          "text": [
            "[Depósito] Cuenta 1001: +421.00 -> Saldo: 421.00\n",
            "[Retiro] Cuenta 1001: -21.00 -> Saldo: 400.00\n",
            "[Depósito] Cuenta 1001: +106.00 -> Saldo: 506.00\n",
            "[Saldo] Cuenta 1001 - Usuario1: 506.00\n",
            "[Depósito] Cuenta 1002: +304.00 -> Saldo: 304.00\n",
            "[Retiro] Cuenta 1002: -48.00 -> Saldo: 256.00\n",
            "[Depósito] Cuenta 1002: +108.00 -> Saldo: 364.00\n",
            "[Saldo] Cuenta 1002 - Usuario2: 364.00\n",
            "[Depósito] Cuenta 1003: +352.00 -> Saldo: 352.00\n",
            "[Retiro] Cuenta 1003: -28.00 -> Saldo: 324.00\n",
            "[Depósito] Cuenta 1003: +113.00 -> Saldo: 437.00\n",
            "[Saldo] Cuenta 1003 - Usuario3: 437.00\n",
            "[Depósito] Cuenta 1004: +442.00 -> Saldo: 442.00\n",
            "[Retiro] Cuenta 1004: -45.00 -> Saldo: 397.00\n",
            "[Depósito] Cuenta 1004: +42.00 -> Saldo: 439.00\n",
            "[Saldo] Cuenta 1004 - Usuario4: 439.00\n",
            "[Depósito] Cuenta 1005: +123.00 -> Saldo: 123.00\n",
            "[Retiro] Cuenta 1005: -14.00 -> Saldo: 109.00\n",
            "[Depósito] Cuenta 1005: +197.00 -> Saldo: 306.00\n",
            "[Saldo] Cuenta 1005 - Usuario5: 306.00\n",
            "[Depósito] Cuenta 1006: +459.00 -> Saldo: 459.00\n",
            "[Retiro] Cuenta 1006: -18.00 -> Saldo: 441.00\n",
            "[Depósito] Cuenta 1006: +64.00 -> Saldo: 505.00\n",
            "[Saldo] Cuenta 1006 - Usuario6: 505.00\n",
            "[Depósito] Cuenta 1007: +274.00 -> Saldo: 274.00\n",
            "[Retiro] Cuenta 1007: -43.00 -> Saldo: 231.00\n",
            "[Depósito] Cuenta 1007: +144.00 -> Saldo: 375.00\n",
            "[Saldo] Cuenta 1007 - Usuario7: 375.00\n",
            "[Depósito] Cuenta 1008: +402.00 -> Saldo: 402.00\n",
            "[Retiro] Cuenta 1008: -15.00 -> Saldo: 387.00\n",
            "[Depósito] Cuenta 1008: +171.00 -> Saldo: 558.00\n",
            "[Saldo] Cuenta 1008 - Usuario8: 558.00\n",
            "[Depósito] Cuenta 1009: +472.00 -> Saldo: 472.00\n",
            "[Retiro] Cuenta 1009: -50.00 -> Saldo: 422.00\n",
            "[Depósito] Cuenta 1009: +111.00 -> Saldo: 533.00\n",
            "[Saldo] Cuenta 1009 - Usuario9: 533.00\n",
            "[Depósito] Cuenta 1010: +107.00 -> Saldo: 107.00\n",
            "[Retiro] Cuenta 1010: -42.00 -> Saldo: 65.00\n",
            "[Depósito] Cuenta 1010: +100.00 -> Saldo: 165.00\n",
            "[Saldo] Cuenta 1010 - Usuario10: 165.00\n"
          ]
        }
      ]
    },
    {
      "cell_type": "code",
      "source": [
        "# 4. Realizamos al menos 10 transferencias entre cuentas al azar\n",
        "num_transferencias = 12\n",
        "for _ in range(num_transferencias):\n",
        "    origen = random.choice(cuentas)\n",
        "    destino = random.choice(cuentas)\n",
        "    # evitar transferir a la misma cuenta\n",
        "    while destino is origen:\n",
        "        destino = random.choice(cuentas)\n",
        "    cantidad = float(random.randint(5, 150))\n",
        "    mi_banco.realizar_transferencia(origen, destino, cantidad)"
      ],
      "metadata": {
        "colab": {
          "base_uri": "https://localhost:8080/"
        },
        "id": "lcUp6slWukzh",
        "outputId": "095e28dc-0a03-4248-c8b6-6bd1143d817f"
      },
      "execution_count": null,
      "outputs": [
        {
          "output_type": "stream",
          "name": "stdout",
          "text": [
            "Intentando transferir 112.00 de 1004 a 1010\n",
            "[Retiro] Cuenta 1004: -112.00 -> Saldo: 327.00\n",
            "[Depósito] Cuenta 1010: +112.00 -> Saldo: 277.00\n",
            "[Transferencia exitosa] 112.00 de 1004 a 1010\n",
            "Intentando transferir 69.00 de 1001 a 1004\n",
            "[Retiro] Cuenta 1001: -69.00 -> Saldo: 437.00\n",
            "[Depósito] Cuenta 1004: +69.00 -> Saldo: 396.00\n",
            "[Transferencia exitosa] 69.00 de 1001 a 1004\n",
            "Intentando transferir 41.00 de 1009 a 1008\n",
            "[Retiro] Cuenta 1009: -41.00 -> Saldo: 492.00\n",
            "[Depósito] Cuenta 1008: +41.00 -> Saldo: 599.00\n",
            "[Transferencia exitosa] 41.00 de 1009 a 1008\n",
            "Intentando transferir 55.00 de 1004 a 1002\n",
            "[Retiro] Cuenta 1004: -55.00 -> Saldo: 341.00\n",
            "[Depósito] Cuenta 1002: +55.00 -> Saldo: 419.00\n",
            "[Transferencia exitosa] 55.00 de 1004 a 1002\n",
            "Intentando transferir 48.00 de 1007 a 1001\n",
            "[Retiro] Cuenta 1007: -48.00 -> Saldo: 327.00\n",
            "[Depósito] Cuenta 1001: +48.00 -> Saldo: 485.00\n",
            "[Transferencia exitosa] 48.00 de 1007 a 1001\n",
            "Intentando transferir 16.00 de 1005 a 1006\n",
            "[Retiro] Cuenta 1005: -16.00 -> Saldo: 290.00\n",
            "[Depósito] Cuenta 1006: +16.00 -> Saldo: 521.00\n",
            "[Transferencia exitosa] 16.00 de 1005 a 1006\n",
            "Intentando transferir 126.00 de 1006 a 1003\n",
            "[Retiro] Cuenta 1006: -126.00 -> Saldo: 395.00\n",
            "[Depósito] Cuenta 1003: +126.00 -> Saldo: 563.00\n",
            "[Transferencia exitosa] 126.00 de 1006 a 1003\n",
            "Intentando transferir 60.00 de 1001 a 1007\n",
            "[Retiro] Cuenta 1001: -60.00 -> Saldo: 425.00\n",
            "[Depósito] Cuenta 1007: +60.00 -> Saldo: 387.00\n",
            "[Transferencia exitosa] 60.00 de 1001 a 1007\n",
            "Intentando transferir 64.00 de 1008 a 1009\n",
            "[Retiro] Cuenta 1008: -64.00 -> Saldo: 535.00\n",
            "[Depósito] Cuenta 1009: +64.00 -> Saldo: 556.00\n",
            "[Transferencia exitosa] 64.00 de 1008 a 1009\n",
            "Intentando transferir 146.00 de 1002 a 1004\n",
            "[Retiro] Cuenta 1002: -146.00 -> Saldo: 273.00\n",
            "[Depósito] Cuenta 1004: +146.00 -> Saldo: 487.00\n",
            "[Transferencia exitosa] 146.00 de 1002 a 1004\n",
            "Intentando transferir 139.00 de 1007 a 1008\n",
            "[Retiro] Cuenta 1007: -139.00 -> Saldo: 248.00\n",
            "[Depósito] Cuenta 1008: +139.00 -> Saldo: 674.00\n",
            "[Transferencia exitosa] 139.00 de 1007 a 1008\n",
            "Intentando transferir 5.00 de 1004 a 1008\n",
            "[Retiro] Cuenta 1004: -5.00 -> Saldo: 482.00\n",
            "[Depósito] Cuenta 1008: +5.00 -> Saldo: 679.00\n",
            "[Transferencia exitosa] 5.00 de 1004 a 1008\n"
          ]
        }
      ]
    },
    {
      "cell_type": "code",
      "source": [
        "# 5. Finalmente imprimimos todos los saldos para verificar\n",
        "print(\"\\n--- Saldos finales ---\")\n",
        "for c in cuentas:\n",
        "    print(f\"Cuenta {c.numero_cuenta} ({c.usuario.nombre}): {c.saldo:.2f}\")"
      ],
      "metadata": {
        "colab": {
          "base_uri": "https://localhost:8080/"
        },
        "id": "lwavawB8uo-J",
        "outputId": "82f38c76-4548-42bb-c236-26d3ce427739"
      },
      "execution_count": null,
      "outputs": [
        {
          "output_type": "stream",
          "name": "stdout",
          "text": [
            "\n",
            "--- Saldos finales ---\n",
            "Cuenta 1001 (Usuario1): 425.00\n",
            "Cuenta 1002 (Usuario2): 273.00\n",
            "Cuenta 1003 (Usuario3): 563.00\n",
            "Cuenta 1004 (Usuario4): 482.00\n",
            "Cuenta 1005 (Usuario5): 290.00\n",
            "Cuenta 1006 (Usuario6): 395.00\n",
            "Cuenta 1007 (Usuario7): 248.00\n",
            "Cuenta 1008 (Usuario8): 679.00\n",
            "Cuenta 1009 (Usuario9): 556.00\n",
            "Cuenta 1010 (Usuario10): 277.00\n"
          ]
        }
      ]
    }
  ]
}