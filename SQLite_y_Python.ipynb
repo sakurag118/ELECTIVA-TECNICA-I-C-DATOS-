{
  "nbformat": 4,
  "nbformat_minor": 0,
  "metadata": {
    "colab": {
      "provenance": [],
      "authorship_tag": "ABX9TyM/e8CFS38eyJ9cYf0cRlhJ",
      "include_colab_link": true
    },
    "kernelspec": {
      "name": "python3",
      "display_name": "Python 3"
    },
    "language_info": {
      "name": "python"
    }
  },
  "cells": [
    {
      "cell_type": "markdown",
      "metadata": {
        "id": "view-in-github",
        "colab_type": "text"
      },
      "source": [
        "<a href=\"https://colab.research.google.com/github/sakurag118/ELECTIVA-TECNICA-I-C-DATOS-/blob/main/SQLite_y_Python.ipynb\" target=\"_parent\"><img src=\"https://colab.research.google.com/assets/colab-badge.svg\" alt=\"Open In Colab\"/></a>"
      ]
    },
    {
      "cell_type": "markdown",
      "source": [
        "# Taller: Gestión de Inventario con SQLite y Python\n",
        "**Estudiante:** Yuliet Sakura Garcia Fonseca  \n",
        "**Materia:** Ciencia de Datos I  \n",
        "**Fecha:** (poner la fecha)  \n",
        "\n",
        "**Objetivo:** Implementar una base de datos SQLite para gestionar inventario usando Python. Crear clases básicas, insertar, consultar, actualizar y eliminar productos. Exportar resultados a DataFrame con pandas.\n",
        "\n",
        "**Instrucciones:** Ejecutar las celdas de código en orden. Leer las explicaciones en cada celda para entender qué hace cada línea."
      ],
      "metadata": {
        "id": "mekF6QeyT_Zq"
      }
    },
    {
      "cell_type": "code",
      "source": [
        "# Librerías necesarias\n",
        "import sqlite3        # para la base de datos SQLite\n",
        "import pandas as pd   # para manejar tablas (dataframes)\n",
        "from datetime import datetime\n",
        "import random         # para crear datos de prueba\n"
      ],
      "metadata": {
        "id": "DNDeyySwRzou"
      },
      "execution_count": 1,
      "outputs": []
    },
    {
      "cell_type": "markdown",
      "source": [
        "Clase Product (modelo sencillo)"
      ],
      "metadata": {
        "id": "zMeq6c6hR-mE"
      }
    },
    {
      "cell_type": "code",
      "source": [
        "# Clase que representa un producto en Python\n",
        "class Product:\n",
        "    def __init__(self, nombre, categoria, precio, cantidad, proveedor, fecha_ingreso=None):\n",
        "        # __init__ se ejecuta cuando creas un producto: Product(...)\n",
        "        # 'self' es la referencia al objeto que estamos creando\n",
        "        self.nombre = nombre\n",
        "        self.categoria = categoria\n",
        "        self.precio = float(precio)      # guardamos como número decimal\n",
        "        self.cantidad = int(cantidad)    # guardamos como entero\n",
        "        self.proveedor = proveedor\n",
        "        # si no das fecha, ponemos la fecha actual en formato ISO\n",
        "        self.fecha_ingreso = fecha_ingreso or datetime.now().strftime(\"%Y-%m-%d\")\n",
        "\n",
        "    def __repr__(self):\n",
        "        # Esto define cómo se ve el producto si lo imprimes\n",
        "        return f\"Product(nombre={self.nombre}, categoria={self.categoria}, precio={self.precio}, cantidad={self.cantidad}, proveedor={self.proveedor}, fecha={self.fecha_ingreso})\"\n"
      ],
      "metadata": {
        "id": "nk4ahWvgSIfS"
      },
      "execution_count": 2,
      "outputs": []
    },
    {
      "cell_type": "markdown",
      "source": [
        "Clase InventoryDB (manejo de SQLite)"
      ],
      "metadata": {
        "id": "P-kd0gn8SNbQ"
      }
    },
    {
      "cell_type": "code",
      "source": [
        "class InventoryDB:\n",
        "    def __init__(self, db_name=\"productos.db\"):\n",
        "        # Abrimos (o creamos si no existe) la base de datos\n",
        "        self.db_name = db_name\n",
        "        self.conn = sqlite3.connect(self.db_name)  # Conexión a archivo .db\n",
        "        self.conn.row_factory = sqlite3.Row       # Para obtener resultados como diccionarios\n",
        "        self.c = self.conn.cursor()               # Cursor: nos permite ejecutar comandos SQL\n",
        "        self.create_table()                       # Crear tabla si no existe\n",
        "\n",
        "    def create_table(self):\n",
        "        # CREAMOS LA TABLA si no existe\n",
        "        self.c.execute(\"\"\"\n",
        "            CREATE TABLE IF NOT EXISTS inventario (\n",
        "                id INTEGER PRIMARY KEY,\n",
        "                nombre TEXT,\n",
        "                categoria TEXT,\n",
        "                precio REAL,\n",
        "                cantidad INTEGER,\n",
        "                proveedor TEXT,\n",
        "                fecha_ingreso TEXT\n",
        "            )\n",
        "        \"\"\")\n",
        "        self.conn.commit()  # Guardar cambios\n",
        "\n",
        "    def insert_product(self, product):\n",
        "        # Inserta un producto (objeto Product)\n",
        "        sql = \"INSERT INTO inventario (nombre, categoria, precio, cantidad, proveedor, fecha_ingreso) VALUES (?, ?, ?, ?, ?, ?)\"\n",
        "        params = (product.nombre, product.categoria, product.precio, product.cantidad, product.proveedor, product.fecha_ingreso)\n",
        "        self.c.execute(sql, params)   # Usamos marcadores '?' para seguridad (previene SQL injection)\n",
        "        self.conn.commit()\n",
        "        return self.c.lastrowid      # devuelve el id del registro insertado\n",
        "\n",
        "    def insert_many(self, list_of_products):\n",
        "        # Inserta muchos productos a la vez usando executemany (más rápido)\n",
        "        sql = \"INSERT INTO inventario (nombre, categoria, precio, cantidad, proveedor, fecha_ingreso) VALUES (?, ?, ?, ?, ?, ?)\"\n",
        "        params = [(p.nombre, p.categoria, p.precio, p.cantidad, p.proveedor, p.fecha_ingreso) for p in list_of_products]\n",
        "        self.c.executemany(sql, params)\n",
        "        self.conn.commit()\n",
        "\n",
        "    def get_all(self):\n",
        "        # Devuelve todos los productos como lista de dicts\n",
        "        self.c.execute(\"SELECT * FROM inventario\")\n",
        "        rows = self.c.fetchall()\n",
        "        return [dict(row) for row in rows]\n",
        "\n",
        "    def query(self, where_clause=\"\", params=()):\n",
        "        # Consulta personalizada (ej: \"WHERE precio > ?\", (100,))\n",
        "        sql = \"SELECT * FROM inventario \" + where_clause\n",
        "        self.c.execute(sql, params)\n",
        "        rows = self.c.fetchall()\n",
        "        return [dict(row) for row in rows]\n",
        "\n",
        "    def update_product(self, product_id, **kwargs):\n",
        "        # Actualiza campos pasados por kwargs, por ejemplo: update_product(3, precio=50, cantidad=10)\n",
        "        fields = []\n",
        "        values = []\n",
        "        for k, v in kwargs.items():\n",
        "            fields.append(f\"{k} = ?\")\n",
        "            values.append(v)\n",
        "        values.append(product_id)  # para WHERE\n",
        "        sql = f\"UPDATE inventario SET {', '.join(fields)} WHERE id = ?\"\n",
        "        self.c.execute(sql, tuple(values))\n",
        "        self.conn.commit()\n",
        "        return self.c.rowcount   # cuántas filas fueron afectadas\n",
        "\n",
        "    def delete_product(self, product_id):\n",
        "        self.c.execute(\"DELETE FROM inventario WHERE id = ?\", (product_id,))\n",
        "        self.conn.commit()\n",
        "        return self.c.rowcount\n",
        "\n",
        "    def to_dataframe(self, where_clause=\"\", params=()):\n",
        "        # Devuelve un pandas DataFrame de la consulta\n",
        "        query = \"SELECT * FROM inventario \" + where_clause\n",
        "        return pd.read_sql_query(query, self.conn, params=params)\n",
        "\n",
        "    def close(self):\n",
        "        self.conn.close()\n"
      ],
      "metadata": {
        "id": "hx72FqioSUEC"
      },
      "execution_count": 3,
      "outputs": []
    },
    {
      "cell_type": "markdown",
      "source": [
        "Crear datos de prueba (rápido)"
      ],
      "metadata": {
        "id": "afZ8GNcoSakH"
      }
    },
    {
      "cell_type": "code",
      "source": [
        "# Función para crear N productos de prueba\n",
        "def crear_datos_prueba(n=10):\n",
        "    categorias = [\"Electronica\", \"Ropa\", \"Alimentos\", \"Hogar\"]\n",
        "    proveedores = [\"Proveedor1\", \"Proveedor2\", \"Proveedor3\"]\n",
        "    lista = []\n",
        "    for i in range(n):\n",
        "        nombre = f\"Producto_{i+1}\"\n",
        "        categoria = random.choice(categorias)\n",
        "        precio = round(random.uniform(10, 1000), 2)\n",
        "        cantidad = random.randint(1, 100)\n",
        "        proveedor = random.choice(proveedores)\n",
        "        p = Product(nombre, categoria, precio, cantidad, proveedor)\n",
        "        lista.append(p)\n",
        "    return lista\n"
      ],
      "metadata": {
        "id": "MaK5RVj4SeN6"
      },
      "execution_count": 4,
      "outputs": []
    },
    {
      "cell_type": "markdown",
      "source": [
        "Ejemplo: usar todo paso a paso"
      ],
      "metadata": {
        "id": "8dgRYCkqSphd"
      }
    },
    {
      "cell_type": "code",
      "source": [
        "# 1) Crear la base de datos (archivo productos.db en el entorno de Colab)\n",
        "db = InventoryDB(\"productos.db\")  # se crea o abre\n",
        "\n",
        "# 2) Insertar un solo producto\n",
        "p1 = Product(\"Camisa Azul\", \"Ropa\", 25.50, 10, \"Proveedor1\")\n",
        "id_insertado = db.insert_product(p1)\n",
        "print(\"Insertado id:\", id_insertado)\n",
        "\n",
        "# 3) Insertar varios productos\n",
        "lista = crear_datos_prueba(20)\n",
        "db.insert_many(lista)\n",
        "print(\"Insertados 20 productos de prueba.\")\n",
        "\n",
        "# 4) Consultar todos y mostrar\n",
        "todos = db.get_all()\n",
        "print(\"Cantidad total de registros:\", len(todos))\n",
        "print(\"Primeros 3 registros:\", todos[:3])\n",
        "\n",
        "# 5) Consulta con condición: productos del proveedor1\n",
        "prov1 = db.query(\"WHERE proveedor = ?\", (\"Proveedor1\",))\n",
        "print(\"Productos de Proveedor1:\", len(prov1))\n",
        "\n",
        "# 6) Actualizar un producto (ejemplo: cambiar precio y cantidad)\n",
        "filas = db.update_product(id_insertado, precio=30.0, cantidad=12)\n",
        "print(\"Filas actualizadas:\", filas)\n",
        "\n",
        "# 7) Borrar un producto (ejemplo)\n",
        "# filas_borradas = db.delete_product(id_insertado)\n",
        "# print(\"Filas borradas:\", filas_borradas)\n",
        "\n",
        "# 8) Cerrar\n",
        "# db.close()\n"
      ],
      "metadata": {
        "colab": {
          "base_uri": "https://localhost:8080/"
        },
        "id": "PWnS4sFdTblp",
        "outputId": "e1732d4b-487d-4634-c4a0-deb509d579b2"
      },
      "execution_count": 5,
      "outputs": [
        {
          "output_type": "stream",
          "name": "stdout",
          "text": [
            "Insertado id: 1\n",
            "Insertados 20 productos de prueba.\n",
            "Cantidad total de registros: 21\n",
            "Primeros 3 registros: [{'id': 1, 'nombre': 'Camisa Azul', 'categoria': 'Ropa', 'precio': 25.5, 'cantidad': 10, 'proveedor': 'Proveedor1', 'fecha_ingreso': '2025-10-23'}, {'id': 2, 'nombre': 'Producto_1', 'categoria': 'Hogar', 'precio': 175.45, 'cantidad': 35, 'proveedor': 'Proveedor2', 'fecha_ingreso': '2025-10-23'}, {'id': 3, 'nombre': 'Producto_2', 'categoria': 'Ropa', 'precio': 247.98, 'cantidad': 46, 'proveedor': 'Proveedor1', 'fecha_ingreso': '2025-10-23'}]\n",
            "Productos de Proveedor1: 7\n",
            "Filas actualizadas: 1\n"
          ]
        }
      ]
    }
  ]
}