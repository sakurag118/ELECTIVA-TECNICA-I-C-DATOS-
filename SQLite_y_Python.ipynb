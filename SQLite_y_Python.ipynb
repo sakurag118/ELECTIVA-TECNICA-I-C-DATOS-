{
  "nbformat": 4,
  "nbformat_minor": 0,
  "metadata": {
    "colab": {
      "provenance": [],
      "authorship_tag": "ABX9TyPESjuS/Z7h3ooNB1RYRvqG",
      "include_colab_link": true
    },
    "kernelspec": {
      "name": "python3",
      "display_name": "Python 3"
    },
    "language_info": {
      "name": "python"
    }
  },
  "cells": [
    {
      "cell_type": "markdown",
      "metadata": {
        "id": "view-in-github",
        "colab_type": "text"
      },
      "source": [
        "<a href=\"https://colab.research.google.com/github/sakurag118/ELECTIVA-TECNICA-I-C-DATOS-/blob/main/SQLite_y_Python.ipynb\" target=\"_parent\"><img src=\"https://colab.research.google.com/assets/colab-badge.svg\" alt=\"Open In Colab\"/></a>"
      ]
    },
    {
      "cell_type": "markdown",
      "source": [
        "# Gestión Básica de Inventario con SQLite3\n",
        "\n",
        "**Autor: Yuliet Sakura Garcia Fonseca**\n",
        "Bogotá, Colombia\n"
      ],
      "metadata": {
        "id": "Vq-RrWq-v4B7"
      }
    },
    {
      "cell_type": "markdown",
      "source": [
        "**Instalar la Librería**"
      ],
      "metadata": {
        "id": "T4qF1cXYwSRF"
      }
    },
    {
      "cell_type": "code",
      "source": [
        "# %%shell le dice a Colab que vamos a usar un comando del sistema, no Python.\n",
        "# 'sudo apt-get install sqlite3' instala la herramienta de bases de datos.\n",
        "%%shell\n",
        "sudo apt-get install sqlite3"
      ],
      "metadata": {
        "colab": {
          "base_uri": "https://localhost:8080/"
        },
        "id": "lgffN2PTwUjP",
        "outputId": "bfc54c53-a791-4af7-a273-d7f294c46b42"
      },
      "execution_count": 16,
      "outputs": [
        {
          "output_type": "stream",
          "name": "stdout",
          "text": [
            "Reading package lists... Done\n",
            "Building dependency tree... Done\n",
            "Reading state information... Done\n",
            "sqlite3 is already the newest version (3.37.2-2ubuntu0.5).\n",
            "0 upgraded, 0 newly installed, 0 to remove and 38 not upgraded.\n"
          ]
        },
        {
          "output_type": "execute_result",
          "data": {
            "text/plain": []
          },
          "metadata": {},
          "execution_count": 16
        }
      ]
    },
    {
      "cell_type": "markdown",
      "source": [
        "**Crear la Base de Datos y la Tabla**"
      ],
      "metadata": {
        "id": "SXEAhRQMwW3d"
      }
    },
    {
      "cell_type": "code",
      "source": [
        "## Crear la base de datos, tabla e insertar 10,000 productos\n",
        "\n",
        "import sqlite3 # Librería para la base de datos.\n",
        "import random  # Librería para generar datos al azar.\n",
        "import os      # Librería para interactuar con el sistema operativo (archivos).\n",
        "\n",
        "# 1. Eliminar el archivo de la base de datos para empezar completamente de cero\n",
        "# Esto garantiza que no haya problemas de bloqueos ni IDs duplicados de ejecuciones anteriores.\n",
        "if os.path.exists('productos.db'):\n",
        "    os.remove('productos.db')\n",
        "    print(\"Archivo de base de datos anterior eliminado.\")\n",
        "\n",
        "# 2. Abrir la conexión y crear el cursor\n",
        "conn = sqlite3.connect('productos.db')\n",
        "c = conn.cursor()\n",
        "\n",
        "# 3. Crear una tabla llamada 'inventario'\n",
        "c.execute('''\n",
        "CREATE TABLE inventario (\n",
        "    id INTEGER PRIMARY KEY,\n",
        "    nombre TEXT,\n",
        "    categoria TEXT,\n",
        "    precio DECIMAL(10, 2),\n",
        "    cantidad INTEGER,\n",
        "    proveedor TEXT,\n",
        "    fecha_ingreso DATE,\n",
        "    ubicacion TEXT\n",
        ")\n",
        "''')\n",
        "\n",
        "# 4. Función para generar un producto (solo 7 datos, el ID lo genera la DB)\n",
        "def generar_producto():\n",
        "    nombres = [\"Producto\", \"Artículo\", \"Objeto\"]\n",
        "    categorias = [\"Electrónica\", \"Hogar\", \"Jardín\", \"Moda\", \"Deportes\"]\n",
        "    proveedores = [\"Proveedor1\", \"Proveedor2\", \"Proveedor3\"]\n",
        "    ubicaciones = [\"Almacén A\", \"Almacén B\", \"Almacén C\"]\n",
        "\n",
        "    nombre = random.choice(nombres) + str(random.randint(10000, 99999))\n",
        "    categoria = random.choice(categorias)\n",
        "    precio = round(random.uniform(10.0, 500.0), 2)\n",
        "    cantidad = random.randint(1, 100)\n",
        "    proveedor = random.choice(proveedores)\n",
        "    fecha_ingreso = f\"2023-{random.randint(1, 12):02d}-{random.randint(1, 28):02d}\"\n",
        "    ubicacion = random.choice(ubicaciones)\n",
        "\n",
        "    # Devolvemos una tupla de SOLO 7 DATOS (sin el ID)\n",
        "    return (nombre, categoria, precio, cantidad, proveedor, fecha_ingreso, ubicacion)\n",
        "\n",
        "# 5. Generar la lista de 10,000 productos\n",
        "productos = [generar_producto() for i in range(10000)]\n",
        "\n",
        "# 6. Insertar los 10,000 productos usando executemany\n",
        "c.executemany('''\n",
        "INSERT INTO inventario (nombre, categoria, precio, cantidad, proveedor, fecha_ingreso, ubicacion)\n",
        "VALUES (?, ?, ?, ?, ?, ?, ?)\n",
        "''', productos)\n",
        "\n",
        "# 7. Guardar cambios y cerrar la conexión\n",
        "conn.commit()\n",
        "conn.close()\n",
        "print(\"Base de datos creada y poblada con éxito.\")"
      ],
      "metadata": {
        "colab": {
          "base_uri": "https://localhost:8080/"
        },
        "id": "lJi2zhNOwgsN",
        "outputId": "0290faf1-101d-498b-d316-a0d7ada81722"
      },
      "execution_count": 17,
      "outputs": [
        {
          "output_type": "stream",
          "name": "stdout",
          "text": [
            "Archivo de base de datos anterior eliminado.\n",
            "Base de datos creada y poblada con éxito.\n"
          ]
        }
      ]
    },
    {
      "cell_type": "markdown",
      "source": [
        "**Consultas y Uso de Pandas**"
      ],
      "metadata": {
        "id": "hSGxulWnwoW5"
      }
    },
    {
      "cell_type": "code",
      "source": [
        "## Consulta para mostrar todos los productos creados\n",
        "import sqlite3\n",
        "\n",
        "# Reabrir la conexión\n",
        "conn = sqlite3.connect('productos.db')\n",
        "c = conn.cursor()\n",
        "\n",
        "# c.execute: Ejecuta el comando SQL 'SELECT * FROM inventario' (dame todos los productos de la tabla inventario)\n",
        "c.execute('SELECT * FROM inventario')\n",
        "# c.fetchall(): Trae todos los resultados que encontró la consulta\n",
        "productos = c.fetchall()\n",
        "\n",
        "# Un bucle for para imprimir cada producto\n",
        "# Esto es lento y solo muestra texto, por eso usamos Pandas más abajo.\n",
        "# for producto in productos:\n",
        "#     print(producto)\n",
        "\n",
        "# Cerrar la conexión\n",
        "conn.close()\n",
        "\n",
        "## Realizar consulta y transferir a dataframe\n",
        "import sqlite3\n",
        "import pandas as pd # Importamos PANDAS, la librería para crear DataFrames (tablas bonitas)\n",
        "\n",
        "# Reabrir la conexión\n",
        "conn = sqlite3.connect('productos.db')\n",
        "\n",
        "#P2.2: Usamos pd.read_sql_query().\n",
        "# Esto hace la consulta Y la convierte en una tabla (DataFrame) al mismo tiempo. ¡Genial!\n",
        "query = \"SELECT * FROM inventario WHERE precio > 450\"\n",
        "df_productos = pd.read_sql_query(query, conn)\n",
        "\n",
        "# Mostrar el DataFrame (la tabla bonita)\n",
        "print(\"Productos con precio > 450:\")\n",
        "print(df_productos)\n",
        "df_productos.head() # Muestra las primeras 5 filas (rows)\n",
        "\n",
        "# Cerrar la conexión\n",
        "conn.close()"
      ],
      "metadata": {
        "colab": {
          "base_uri": "https://localhost:8080/"
        },
        "id": "kWZdAL4_wv-x",
        "outputId": "647d582b-11cf-4a04-b650-cbee19aa76eb"
      },
      "execution_count": 18,
      "outputs": [
        {
          "output_type": "stream",
          "name": "stdout",
          "text": [
            "Productos con precio > 450:\n",
            "        id         nombre    categoria  precio  cantidad   proveedor  \\\n",
            "0        6    Objeto37961         Moda  475.34        97  Proveedor3   \n",
            "1       25    Objeto99484  Electrónica  468.27        82  Proveedor3   \n",
            "2       30  Artículo30443       Jardín  485.21        11  Proveedor1   \n",
            "3       40    Objeto66840       Jardín  476.33        75  Proveedor1   \n",
            "4       45  Producto91834       Jardín  485.79         4  Proveedor2   \n",
            "...    ...            ...          ...     ...       ...         ...   \n",
            "1001  9950    Objeto83276       Jardín  475.62       100  Proveedor2   \n",
            "1002  9951  Producto15424       Jardín  464.18         1  Proveedor3   \n",
            "1003  9956  Producto36621         Moda  482.33        61  Proveedor3   \n",
            "1004  9986  Artículo29989         Moda  452.70        91  Proveedor2   \n",
            "1005  9999    Objeto26962       Jardín  474.48        97  Proveedor2   \n",
            "\n",
            "     fecha_ingreso  ubicacion  \n",
            "0       2023-03-13  Almacén C  \n",
            "1       2023-01-03  Almacén B  \n",
            "2       2023-06-18  Almacén A  \n",
            "3       2023-08-07  Almacén A  \n",
            "4       2023-11-15  Almacén C  \n",
            "...            ...        ...  \n",
            "1001    2023-08-08  Almacén B  \n",
            "1002    2023-02-09  Almacén A  \n",
            "1003    2023-05-13  Almacén B  \n",
            "1004    2023-06-02  Almacén B  \n",
            "1005    2023-11-15  Almacén A  \n",
            "\n",
            "[1006 rows x 8 columns]\n"
          ]
        }
      ]
    },
    {
      "cell_type": "code",
      "source": [
        "## Nueva consulta (Respuesta a P2.3)\n",
        "import sqlite3\n",
        "import pandas as pd\n",
        "\n",
        "# Conectar a la base de datos\n",
        "conn = sqlite3.connect('productos.db')\n",
        "\n",
        "# 📝 Modificación para P2.3: Cambiar la condición 'precio > 450 AND cantidad > 25'\n",
        "# a 'precio > 480 OR cantidad < 5'\n",
        "query_modificada = \"SELECT * FROM inventario WHERE precio > 480 OR cantidad < 5\"\n",
        "\n",
        "# Realizar la consulta y cargar los resultados en un DataFrame\n",
        "df_productos_modificado = pd.read_sql_query(query_modificada, conn)\n",
        "\n",
        "# Mostrar el DataFrame\n",
        "print(\"Productos con precio > 480 O cantidad < 5:\")\n",
        "print(df_productos_modificado)\n",
        "\n",
        "# Cerrar la conexión\n",
        "conn.close()"
      ],
      "metadata": {
        "colab": {
          "base_uri": "https://localhost:8080/"
        },
        "id": "wqw08n5y1z_8",
        "outputId": "496f31ea-a3f8-4f33-cb9f-e30f44bff034"
      },
      "execution_count": 19,
      "outputs": [
        {
          "output_type": "stream",
          "name": "stdout",
          "text": [
            "Productos con precio > 480 O cantidad < 5:\n",
            "       id         nombre    categoria  precio  cantidad   proveedor  \\\n",
            "0       2    Objeto21395     Deportes  147.99         2  Proveedor2   \n",
            "1      30  Artículo30443       Jardín  485.21        11  Proveedor1   \n",
            "2      45  Producto91834       Jardín  485.79         4  Proveedor2   \n",
            "3      48    Objeto22855  Electrónica  494.52        25  Proveedor3   \n",
            "4      55  Producto55025         Moda   25.59         1  Proveedor3   \n",
            "..    ...            ...          ...     ...       ...         ...   \n",
            "809  9951  Producto15424       Jardín  464.18         1  Proveedor3   \n",
            "810  9956  Producto36621         Moda  482.33        61  Proveedor3   \n",
            "811  9957    Objeto58815         Moda  161.07         4  Proveedor3   \n",
            "812  9982    Objeto89411     Deportes  152.81         2  Proveedor3   \n",
            "813  9985    Objeto53990        Hogar  211.49         2  Proveedor2   \n",
            "\n",
            "    fecha_ingreso  ubicacion  \n",
            "0      2023-10-13  Almacén A  \n",
            "1      2023-06-18  Almacén A  \n",
            "2      2023-11-15  Almacén C  \n",
            "3      2023-05-25  Almacén C  \n",
            "4      2023-01-03  Almacén C  \n",
            "..            ...        ...  \n",
            "809    2023-02-09  Almacén A  \n",
            "810    2023-05-13  Almacén B  \n",
            "811    2023-02-04  Almacén A  \n",
            "812    2023-02-09  Almacén A  \n",
            "813    2023-02-23  Almacén A  \n",
            "\n",
            "[814 rows x 8 columns]\n"
          ]
        }
      ]
    }
  ]
}