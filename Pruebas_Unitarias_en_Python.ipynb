{
  "nbformat": 4,
  "nbformat_minor": 0,
  "metadata": {
    "colab": {
      "provenance": [],
      "authorship_tag": "ABX9TyN2zmFhrDjpuqUgMnHt9++F",
      "include_colab_link": true
    },
    "kernelspec": {
      "name": "python3",
      "display_name": "Python 3"
    },
    "language_info": {
      "name": "python"
    }
  },
  "cells": [
    {
      "cell_type": "markdown",
      "metadata": {
        "id": "view-in-github",
        "colab_type": "text"
      },
      "source": [
        "<a href=\"https://colab.research.google.com/github/sakurag118/Pruebas-Unitarias-en-Python/blob/main/Pruebas_Unitarias_en_Python.ipynb\" target=\"_parent\"><img src=\"https://colab.research.google.com/assets/colab-badge.svg\" alt=\"Open In Colab\"/></a>"
      ]
    },
    {
      "cell_type": "markdown",
      "source": [
        "#Programación Orientada a Objetos y Pruebas Unitarias en Python\n",
        "**Estudiante:** Yuliet Sakura García Fonseca  \n",
        "**Materia:** Electiva Ciencia De Datos\n",
        "**Semana:** 9  \n",
        "**Tema:** Clases, Objetos y Pruebas con Pytest  \n",
        "\n",
        "En este trabajo se replica la guía práctica .  \n",
        "Se crean clases, objetos, métodos y pruebas unitarias .  \n"
      ],
      "metadata": {
        "id": "37PmBarlAkga"
      }
    },
    {
      "cell_type": "markdown",
      "source": [
        "## Paso 1 – Instalar Pytest\n",
        "Antes de crear las clases, se instala la librería **pytest**, que permite hacer pruebas automáticas del código.  "
      ],
      "metadata": {
        "id": "aiw6R1-6A_-9"
      }
    },
    {
      "cell_type": "code",
      "execution_count": null,
      "metadata": {
        "id": "GZpu-hvG4PPF"
      },
      "outputs": [],
      "source": [
        "!pip install pytest -q\n"
      ]
    },
    {
      "cell_type": "markdown",
      "source": [
        "## Paso 2 – Creación de las Clases\n",
        "A continuación se define un módulo llamado `mi_modulo.py` que contiene dos clases:\n",
        "- **Producto:** representa un producto con nombre y precio.  \n",
        "- **Inventario:** guarda varios productos y permite calcular el valor total.\n",
        "\n",
        "Cada clase tiene un constructor `__init__`, el parámetro `self` y métodos propios.\n"
      ],
      "metadata": {
        "id": "7-KfZQPKBIbN"
      }
    },
    {
      "cell_type": "code",
      "source": [
        "%%bash\n",
        "cat > mi_modulo.py <<'PY'\n",
        "class Producto:\n",
        "    \"\"\"\n",
        "    Clase que representa un producto con nombre y precio.\n",
        "    self: referencia al objeto que se crea.\n",
        "    \"\"\"\n",
        "    def __init__(self, nombre: str, precio: float):\n",
        "        self.nombre = nombre\n",
        "        self.precio = precio\n",
        "\n",
        "    def aplicar_descuento(self, porcentaje: float) -> None:\n",
        "        \"\"\"Aplica un descuento al precio.\"\"\"\n",
        "        descuento = (porcentaje / 100) * self.precio\n",
        "        self.precio = self.precio - descuento\n",
        "\n",
        "    def __str__(self):\n",
        "        return f\"Producto(nombre='{self.nombre}', precio={self.precio:.2f})\"\n",
        "\n",
        "\n",
        "class Inventario:\n",
        "    \"\"\"Clase que guarda varios productos en una lista.\"\"\"\n",
        "    def __init__(self):\n",
        "        self.productos = []\n",
        "\n",
        "    def agregar_producto(self, producto: Producto) -> None:\n",
        "        self.productos.append(producto)\n",
        "\n",
        "    def total_valor(self) -> float:\n",
        "        total = 0.0\n",
        "        for p in self.productos:\n",
        "            total += p.precio\n",
        "        return total\n",
        "PY\n"
      ],
      "metadata": {
        "id": "W5kM0I0po4gj"
      },
      "execution_count": null,
      "outputs": []
    },
    {
      "cell_type": "markdown",
      "source": [
        "## Paso 3 – Prueba Manual de las Clases\n",
        "En esta parte se crean objetos de las clases y se comprueba su funcionamiento manualmente.\n"
      ],
      "metadata": {
        "id": "Gy3z7vM9BQpv"
      }
    },
    {
      "cell_type": "code",
      "source": [
        "from mi_modulo import Producto, Inventario\n",
        "\n",
        "# Crear productos\n",
        "p1 = Producto(\"Cuaderno\", 5.0)\n",
        "p2 = Producto(\"Lapicero\", 1.5)\n",
        "\n",
        "# Aplicar descuento\n",
        "p2.aplicar_descuento(10)\n",
        "\n",
        "# Crear inventario y agregar productos\n",
        "inv = Inventario()\n",
        "inv.agregar_producto(p1)\n",
        "inv.agregar_producto(p2)\n",
        "\n",
        "print(p1)\n",
        "print(p2)\n",
        "print(\"Total inventario:\", inv.total_valor())\n"
      ],
      "metadata": {
        "colab": {
          "base_uri": "https://localhost:8080/"
        },
        "id": "QFsRAX41o6vq",
        "outputId": "db0e0c3f-7689-4830-d839-dbb39e4435ab"
      },
      "execution_count": null,
      "outputs": [
        {
          "output_type": "stream",
          "name": "stdout",
          "text": [
            "Producto(nombre='Cuaderno', precio=5.00)\n",
            "Producto(nombre='Lapicero', precio=1.35)\n",
            "Total inventario: 6.35\n"
          ]
        }
      ]
    },
    {
      "cell_type": "markdown",
      "source": [
        "## Paso 4 – Creación de las Pruebas Automáticas\n",
        "Ahora se crean pruebas automáticas usando la librería **pytest**.  \n",
        "Estas pruebas verifican que las funciones de las clases trabajen correctamente.\n"
      ],
      "metadata": {
        "id": "VF_sc-pSBXbL"
      }
    },
    {
      "cell_type": "code",
      "source": [
        "%%bash\n",
        "cat > test_mi_modulo.py <<'PY'\n",
        "from mi_modulo import Producto, Inventario\n",
        "\n",
        "def test_aplicar_descuento():\n",
        "    p = Producto(\"Prueba\", 100.0)\n",
        "    p.aplicar_descuento(10)\n",
        "    assert abs(p.precio - 90.0) < 1e-6\n",
        "\n",
        "def test_agregar_y_total():\n",
        "    p1 = Producto(\"A\", 2.0)\n",
        "    p2 = Producto(\"B\", 3.0)\n",
        "    inv = Inventario()\n",
        "    inv.agregar_producto(p1)\n",
        "    inv.agregar_producto(p2)\n",
        "    assert abs(inv.total_valor() - 5.0) < 1e-6\n",
        "PY\n"
      ],
      "metadata": {
        "id": "7-hKpQ4bpZpx"
      },
      "execution_count": null,
      "outputs": []
    },
    {
      "cell_type": "markdown",
      "source": [
        "## Paso 5 – Ejecución de las Pruebas\n",
        "A continuación se ejecuta **pytest** para comprobar que todas las pruebas pasen correctamente.\n"
      ],
      "metadata": {
        "id": "X3ji7OpTBeLT"
      }
    },
    {
      "cell_type": "code",
      "source": [
        "!pytest -q\n"
      ],
      "metadata": {
        "colab": {
          "base_uri": "https://localhost:8080/"
        },
        "id": "j7qQ0YsrBlxz",
        "outputId": "2e9af4a5-3db5-4aba-99f5-5ef0715da88e"
      },
      "execution_count": null,
      "outputs": [
        {
          "output_type": "stream",
          "name": "stdout",
          "text": [
            "\u001b[32m.\u001b[0m\u001b[32m.\u001b[0m\u001b[32m                                                                       [100%]\u001b[0m\n",
            "\u001b[32m\u001b[32m\u001b[1m2 passed\u001b[0m\u001b[32m in 0.05s\u001b[0m\u001b[0m\n"
          ]
        }
      ]
    }
  ]
}